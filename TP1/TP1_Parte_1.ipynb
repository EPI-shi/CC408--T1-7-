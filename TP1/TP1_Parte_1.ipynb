{
  "cells": [
    {
      "cell_type": "markdown",
      "metadata": {
        "collapsed": true,
        "id": "Dh8MkXaG-c9Y"
      },
      "source": [
        "# Ciencia de datos (CC408) - Primavera 2024\n",
        "\n",
        "## Trabajo Práctico 1 - Parte 1"
      ]
    },
    {
      "cell_type": "markdown",
      "metadata": {
        "id": "RhBlm6mZ-c9e"
      },
      "source": [
        "### Reglas de formato y presentación\n",
        "- El trabajo debe estar debidamente documentado comentado (utilizando #) para que tanto los docentes como sus compañeros puedan comprender el código fácilmente.\n",
        "\n",
        "- El mismo debe ser completado en este Jupyter Notebook y entregado como tal, es decir en un archivo .ipynb\n"
      ]
    },
    {
      "cell_type": "markdown",
      "metadata": {
        "id": "ZEjGaa4U-c9g"
      },
      "source": [
        "### Fecha de entrega:\n",
        "Domingo 8 de septiembre a las 23:59hs"
      ]
    },
    {
      "cell_type": "markdown",
      "metadata": {
        "id": "N9TU2y7E-c9h"
      },
      "source": [
        "### Modalidad de entrega\n",
        "- Al finalizar el trabajo práctico deben hacer un último <i>commit</i> en su repositorio de GitHub llamado “Entrega final del tp”.\n",
        "- Asegurense de haber creado una carpeta llamada TP1. Este Jupyter Notebook y el correspondiente al TP1 - Parte 1 deben estar dentro de esa carpeta.\n",
        "- También deben enviar el link de su repositorio -para que pueda ser clonado y corregido- al siguiente email: ispiousas@udesa.edu.ar\n",
        "- La última versión en el repositorio es la que será evaluada. Por lo que es importante que:\n",
        "    - No envien el correo hasta no haber terminado y estar seguros de que han hecho el <i>commit y push</i> a la versión final que quieren entregar. Debido a que se pueden tomar hasta 3 días de extensión a lo largo del curso, no se corregirán sus tareas hasta no recibir el correo.\n",
        "    - No hagan nuevos <i>push</i> despues de haber entregado su versión final. Esto generaría confusión acerca de que versión es la que quieren que se les corrija."
      ]
    },
    {
      "cell_type": "markdown",
      "metadata": {
        "id": "ZXbrPraa-c9i"
      },
      "source": [
        "#### Ejercicio 1\n",
        "Este ejercicio simplemente busca repasar lo que aprendimos sobre definición de variables. Definir dos variables con un nombre combinado (al menos dos palabras), una que se pueda crear y otra que tenga un nombre inaceptable (genera error). Explicar por qué ocurre el error."
      ]
    },
    {
      "cell_type": "code",
      "execution_count": null,
      "metadata": {
        "id": "mb7PkXfN-c9j",
        "colab": {
          "base_uri": "https://localhost:8080/",
          "height": 108
        },
        "outputId": "fe73e526-8e35-4ac2-830d-611df054d7ee"
      },
      "outputs": [
        {
          "output_type": "error",
          "ename": "SyntaxError",
          "evalue": "invalid syntax (<ipython-input-1-41c765d30e1e>, line 6)",
          "traceback": [
            "\u001b[0;36m  File \u001b[0;32m\"<ipython-input-1-41c765d30e1e>\"\u001b[0;36m, line \u001b[0;32m6\u001b[0m\n\u001b[0;31m    numero chicas = 3\u001b[0m\n\u001b[0m           ^\u001b[0m\n\u001b[0;31mSyntaxError\u001b[0m\u001b[0;31m:\u001b[0m invalid syntax\n"
          ]
        }
      ],
      "source": [
        "# Ejercicio 1\n",
        "\n",
        "# Caso A\n",
        "numero_chicas = 3\n",
        "\n",
        "\n",
        "# Caso B (acá debería saltar un error)\n",
        "numero chicas = 3\n",
        "\n",
        "# El error en el caso b surge de que las palabras contienen un espacio\n",
        "# y en python, las variables no pueden ser definidas con espacios"
      ]
    },
    {
      "cell_type": "markdown",
      "metadata": {
        "id": "sVP6-Zu3A0ZV"
      },
      "source": [
        "#### Ejercicio 2\n",
        "Importar módulos. Usando el módulo math impriman la tangente de 1. ¿Cuál es el resultado?\n",
        "Hagan este cálculo de dos formas: primero importando el módulo math y usando la función correspondiente y luego solo importando la función específica que precisan para el cálculo."
      ]
    },
    {
      "cell_type": "code",
      "execution_count": null,
      "metadata": {
        "colab": {
          "base_uri": "https://localhost:8080/"
        },
        "id": "CCBbdhjeA0ZV",
        "outputId": "f1091d55-b697-48d5-d214-14edbc73e85f"
      },
      "outputs": [
        {
          "output_type": "stream",
          "name": "stdout",
          "text": [
            "1.5574077246549023\n",
            "1.5574077246549023\n"
          ]
        }
      ],
      "source": [
        "# Ejercicio 2\n",
        "\n",
        "# Caso A\n",
        "import math\n",
        "\n",
        "# Calculamos la tangente de 1\n",
        "resultado_a = math.tan(1)\n",
        "print(resultado_a)\n",
        "\n",
        "# Caso B\n",
        "from math import tan\n",
        "\n",
        "# Calculamos la tangente de 1\n",
        "resultado_b = tan(1)\n",
        "print(resultado_b)\n"
      ]
    },
    {
      "cell_type": "markdown",
      "metadata": {
        "id": "GlNh0fyv-c9l"
      },
      "source": [
        "#### Ejercicio 3\n",
        "Este ejercicio trata sobre lograr el intercambio de valores entre dos variables utilizando una variable temporal para hacerlo. Las variables temporales y la sustitución de valores termina siendo útil en algunos loops. Los pasos a seguir son: (a) definir variables A y B (cuyos valores buscaremos invertir); (b) definir una variable temporal que resguarde el valor de B; (c) sustitución (asignar B igual a A y también A igual al valor original de B); (d) imprimir valores para verificar."
      ]
    },
    {
      "cell_type": "code",
      "execution_count": null,
      "metadata": {
        "id": "uWalSYFC-c9m",
        "colab": {
          "base_uri": "https://localhost:8080/"
        },
        "outputId": "ebd1935b-0ac1-46a5-f44b-eb8e9ce06b22"
      },
      "outputs": [
        {
          "output_type": "stream",
          "name": "stdout",
          "text": [
            "Resultado de A después de la sustitución: 1\n",
            "Resultado de B después de la sustitución: 1\n"
          ]
        }
      ],
      "source": [
        "# Ejercicio 3\n",
        "\n",
        "# a) Definir variables A y B,\n",
        "a = 1\n",
        "b = 2\n",
        "\n",
        "# b) Definir variable temporal \"tmp\" igual a B (la variable, no el valor)\n",
        "tmp = b\n",
        "\n",
        "\n",
        "# c) Ahora sustituir variables: variable B igual a variable A (la variable, no el\n",
        "# valor) y viceversa.\n",
        "b = a\n",
        "a = b\n",
        "\n",
        "\n",
        "# d) Verifiquemos resultados: imprimir variables A y B\n",
        "print(\"Resultado de A después de la sustitución:\", a)\n",
        "print(\"Resultado de B después de la sustitución:\", b)"
      ]
    },
    {
      "cell_type": "markdown",
      "metadata": {
        "id": "wXhAaRyN-c9p"
      },
      "source": [
        "#### Ejercicio 4\n",
        "En este ejercicio se busca poner en práctica el uso de range() en un for loop.\n",
        "\n",
        "Construir un for loop usando un range(). El range debe ser entre los valores que quieran (con una diferencia mínima de 15 entre start y stop), en incrementos de 3 unidades. Dentro del loop, implementar una sentencia condicional que imprima una leyenda indicando si el input es par o impar."
      ]
    },
    {
      "cell_type": "code",
      "execution_count": null,
      "metadata": {
        "id": "_oE5sG0c-c9q",
        "colab": {
          "base_uri": "https://localhost:8080/"
        },
        "outputId": "e1e89f6d-7bc1-49a3-b03d-0d9e9a467ef2"
      },
      "outputs": [
        {
          "output_type": "stream",
          "name": "stdout",
          "text": [
            "10 es par\n",
            "13 es impar\n",
            "16 es par\n",
            "19 es impar\n",
            "22 es par\n"
          ]
        }
      ],
      "source": [
        "# Ejercicio 4\n",
        "\n",
        "# Definimos el start y el stop (con diferencia de 15 unidades)\n",
        "# y el incremento (de 3 en 3 unidades)\n",
        "start = 10\n",
        "stop = 25\n",
        "incremento = 3\n",
        "\n",
        "#Creamos el loop que recorre numeros de 10 a 25 (de 3 en 3) y define si son pares o impares\n",
        "for numero in range(start, stop, incremento):\n",
        "  if numero % 2 == 0:\n",
        "    print(numero, \"es par\")\n",
        "  else:\n",
        "    print(numero, \"es impar\")"
      ]
    },
    {
      "cell_type": "markdown",
      "metadata": {
        "id": "h3g5bXUB-c9u"
      },
      "source": [
        "#### Ejercicio 5\n",
        "Para practicar el uso de condiciones lógicas y la definición de funciones, construir una función con una sentencia condicional que verifique si un año es bisiesto o no. Para que un año sea bisiesto debe cumplir una de dos condiciones:\n",
        "\n",
        "(a) que sea divisible por 400; o\n",
        "\n",
        "(b) que sea divisible por 4 y no sea divisible por 100\n",
        "\n",
        "Notar que son dos condiciones, donde la segunda condición tiene dos componentes. Prueben la función con 3 valores para verificar que funcione."
      ]
    },
    {
      "cell_type": "code",
      "execution_count": null,
      "metadata": {
        "id": "7_MnILdz-c9v",
        "colab": {
          "base_uri": "https://localhost:8080/"
        },
        "outputId": "840c76f4-5520-45bd-908a-0e0e1c3740fc"
      },
      "outputs": [
        {
          "output_type": "stream",
          "name": "stdout",
          "text": [
            "2000 es un año bisiesto\n",
            "2002 no es un año bisiesto\n",
            "2024 es un año bisiesto\n"
          ]
        }
      ],
      "source": [
        "# Ejercicio 5\n",
        "\n",
        "# Definimos una función para años bisiestos\n",
        "def es_bisiesto(anio):\n",
        "    \"\"\"\n",
        "    Verifico si un año es bisiesto o no.\n",
        "\n",
        "    Un año es bisiesto si:\n",
        "    - Es divisible por 400, o\n",
        "    - Es divisible por 4 y no es divisible por 100.\n",
        "    \"\"\"\n",
        "    if (anio % 400 == 0) or (anio % 4 == 0 and anio % 100 != 0):\n",
        "        return True\n",
        "    else:\n",
        "        return False\n",
        "\n",
        "# Probamos la función con 3 valores\n",
        "prueba_anios = [2000, 2002, 2024]\n",
        "\n",
        "for anio_2 in prueba_anios:\n",
        "    if es_bisiesto(anio_2):\n",
        "        print(anio_2, \"es un año bisiesto\")\n",
        "    else:\n",
        "        print(anio_2, \"no es un año bisiesto\")\n"
      ]
    },
    {
      "cell_type": "markdown",
      "metadata": {
        "collapsed": true,
        "id": "P3a7bJkd-c9w"
      },
      "source": [
        "#### Ejercicio 6\n",
        "Pongamos en práctica identificar el type() de cada variable. A continuación tenemos una lista con elementos de diferentes tipos. Construyan un for loop que itere sobre la lista e imprima un cartel indicando el tipo de dato u objeto que hay en cada caso."
      ]
    },
    {
      "cell_type": "code",
      "execution_count": null,
      "metadata": {
        "id": "jDf4d_Wr-c9w"
      },
      "outputs": [],
      "source": [
        "mi_lista = [10, 34.5, 99999, 'abc', [1,2,3], ('ARG', 1810), {'pob': 45}, True]"
      ]
    },
    {
      "cell_type": "code",
      "source": [],
      "metadata": {
        "id": "6khOUITUHLWI"
      },
      "execution_count": null,
      "outputs": []
    },
    {
      "cell_type": "code",
      "execution_count": null,
      "metadata": {
        "id": "SAJgEiNEFQAS",
        "colab": {
          "base_uri": "https://localhost:8080/"
        },
        "outputId": "f0415f4e-7e9d-4940-9061-8e11f78584fd"
      },
      "outputs": [
        {
          "output_type": "stream",
          "name": "stdout",
          "text": [
            "El 10 es <class 'int'>\n",
            "El 34.5 es <class 'float'>\n",
            "El 99999 es <class 'int'>\n",
            "El abc es <class 'str'>\n",
            "El [1, 2, 3] es <class 'list'>\n",
            "El ('ARG', 1810) es <class 'tuple'>\n",
            "El {'pob': 45} es <class 'dict'>\n",
            "El True es <class 'bool'>\n"
          ]
        }
      ],
      "source": [
        "# Ejercicio 6\n",
        "# Uso la lista con elementos de arriba\n",
        "\n",
        "# Iterar sobre la lista e imprimir el tipo de cada elemento\n",
        "for elemento in mi_lista:\n",
        "    tipo = type(elemento)\n",
        "    print(\"El\", elemento, \"es\", tipo)\n"
      ]
    },
    {
      "cell_type": "markdown",
      "metadata": {
        "id": "y1lncitl-c9x"
      },
      "source": [
        "#### Ejercicio 7\n",
        "Ahora definan ustedes una nueva lista, en la que los primeros cuatro elementos sean palabras (strings), el quinto elemento no sea string, y el sexto sea string. Construyan un for loop que corra por la lista y que imprima la palabra y la longitud de la misma. Que el loop contenga una sentencia condicional que imprima un cartel \"Elemento no es un string: < el elemento > | < class del elemento >\" para los casos dónde el elemento evaluado no sea string."
      ]
    },
    {
      "cell_type": "code",
      "execution_count": null,
      "metadata": {
        "id": "bFOk9Os0-c9x",
        "colab": {
          "base_uri": "https://localhost:8080/"
        },
        "outputId": "cc1bb1e3-28e7-468a-e138-93552c3314de"
      },
      "outputs": [
        {
          "output_type": "stream",
          "name": "stdout",
          "text": [
            "dani - longitud de la palabra: 4\n",
            "esperanza - longitud de la palabra: 9\n",
            "viole - longitud de la palabra: 5\n",
            "chicas - longitud de la palabra: 6\n",
            "Elemento no es un string: 123 | <class 'int'>\n",
            "genias - longitud de la palabra: 6\n"
          ]
        }
      ],
      "source": [
        "# Ejercicio 7\n",
        "# Defino una nueva lista con los primeros cuatro elementos como strings,\n",
        "# el quinto elemento no es string, y el sexto es un string\n",
        "\n",
        "mi_lista_2 = [\"dani\", \"esperanza\", \"viole\", \"chicas\", 123, \"genias\"]\n",
        "\n",
        "# Iterar sobre la lista\n",
        "for elemento2 in mi_lista_2:\n",
        "    if type(elemento2) == str:\n",
        "        print(elemento2, \"- longitud de la palabra:\", len(elemento2)) # Imprimimos la palabra y su longitud si el elemento es un string\n",
        "    else:\n",
        "        print(\"Elemento no es un string:\", elemento2, \"|\", type(elemento2)) # Imprimimos un mensaje si el elemento no es un string"
      ]
    },
    {
      "cell_type": "markdown",
      "metadata": {
        "id": "gX3Pzkh5A0ZY"
      },
      "source": [
        "#### Ejercicio 8"
      ]
    },
    {
      "cell_type": "markdown",
      "metadata": {
        "id": "jMyAp0EiA0ZY"
      },
      "source": [
        "\n",
        "\n",
        "```\n",
        "# E\n",
        "\n",
        "```\n",
        "\n",
        "Construyan una función llamada 'suma' que tome una cantidad variable de parámetros y devuelva el resultado de la suma."
      ]
    },
    {
      "cell_type": "code",
      "execution_count": null,
      "metadata": {
        "colab": {
          "base_uri": "https://localhost:8080/"
        },
        "id": "pjxiiLWXA0ZY",
        "outputId": "18829695-ee1c-44fa-9ec4-97a801f0119c"
      },
      "outputs": [
        {
          "output_type": "stream",
          "name": "stdout",
          "text": [
            "6\n",
            "100\n",
            "5\n",
            "0\n"
          ]
        }
      ],
      "source": [
        "# Ejercicio 8\n",
        "\n",
        "# Definimos una función suma que toma parametros x y devuelve el resultado\n",
        "def suma(*args):\n",
        "    return sum(args)\n",
        "\n",
        "# Probamos la función con diferentes números de parámetros\n",
        "print(suma(1, 2, 3))\n",
        "print(suma(10, 20, 30, 40))\n",
        "print(suma(5))\n",
        "print(suma())"
      ]
    },
    {
      "cell_type": "markdown",
      "metadata": {
        "id": "PUpxDz72-c9x"
      },
      "source": [
        "#### Ejercicio 9\n",
        "Argentina tiene una representación legislativa proporcional en la cual la cantidad de diputados se debería ajustar según el tamaño de población de cada provincia. Otra característica de la representación legislativa del país es que hay una cantidad mínima de diputados por provincia (5). Esto genera un desbalance en la cantidad de ciudadanos por cada representante en el Congreso entre provincias.\n",
        "\n",
        "A continuación preparamos algunos ejemplos, dividiendo la población de cada provincia (según estimación para el 2022) por la cantidad de representantes en el Congreso para esa misma jurisdicción. También armamos el equivalente para el total país y una lista con los valores provinciales.\n",
        "\n",
        "En este ejercicio les pedimos que construyan un for loop que itere sobre el diccionario definido y compare cada valor provincial contra el valor de proporcionalidad directa (la variable argentina). El loop debe imprimir una leyenda que indique si la provincia está sobrerepresentada, subrepresentada o con representación proporcional. Además, queremos que el mismo loop compare los valores de las provincias sobrerepresentadas y que guarde el valor de la provincia con mayor sobrerepresentación. Luego del loop impriman este valor así podemos ver que haya funcionado.\n",
        "\n",
        "Fuente para población: https://es.wikipedia.org/wiki/Demograf%C3%ADa_de_Argentina\n",
        "\n",
        "Fuente para representantes: https://es.wikipedia.org/wiki/C%C3%A1mara_de_Diputados_de_la_Naci%C3%B3n_Argentina"
      ]
    },
    {
      "cell_type": "code",
      "execution_count": null,
      "metadata": {
        "id": "hd8Z5AHs-c9y"
      },
      "outputs": [],
      "source": [
        "# Ejercicio 3\n",
        "# Valor de referencia: proporcionalidad\n",
        "argentina = 46044703 / 257\n",
        "\n",
        "# Creamos variables para una selección de jurisdicciones\n",
        "cordoba = 3978984 / 18\n",
        "santa_fe = 3556522 / 19\n",
        "mendoza = 2014533 / 10\n",
        "buenos_aires = 17569053 / 70\n",
        "entre_rios =  1426426 / 9\n",
        "santa_cruz = 333473 / 5\n",
        "formosa = 606041 / 5\n",
        "\n",
        "# Definimos el diccionario para iterar\n",
        "dict_provincias = {\n",
        "    \"Córdoba\": cordoba,\n",
        "    \"Santa Fe\": santa_fe,\n",
        "    \"Mendoza\": mendoza,\n",
        "    \"Buenos Aires\": buenos_aires,\n",
        "    \"Entre Ríos\": entre_rios,\n",
        "    \"Santa Cruz\": santa_cruz,\n",
        "    \"Formosa\": formosa\n",
        "}"
      ]
    },
    {
      "cell_type": "code",
      "execution_count": null,
      "metadata": {
        "id": "fsEHnxiY-c9y",
        "scrolled": true,
        "colab": {
          "base_uri": "https://localhost:8080/"
        },
        "outputId": "787134f1-4bd2-49fc-d4f3-e68c2489451c"
      },
      "outputs": [
        {
          "output_type": "stream",
          "name": "stdout",
          "text": [
            "Córdoba está subrepresentada.\n",
            "Santa Fe está subrepresentada.\n",
            "Mendoza está subrepresentada.\n",
            "Buenos Aires está subrepresentada.\n",
            "Entre Ríos está sobrerepresentada.\n",
            "Santa Cruz está sobrerepresentada.\n",
            "Formosa está sobrerepresentada.\n",
            "La provincia con mayor sobrerepresentación es Santa Cruz\n"
          ]
        }
      ],
      "source": [
        "# Ej 9\n",
        "\n",
        "provincia_max_sobre_rep = \"\" # Almacenamos el nombre de la provincia con mayor sobrerepresentación durante el loop\n",
        "max_sobrerepresentacion = argentina  # Usamos el promedio nacional de número de ciudadanos por representante.\n",
        "#                                     A medida que el loop recorre cada provincia, compara su cantidad de ciudadanos por\n",
        "#                                     representante con el valor de max_sobrerepresentacion.\n",
        "#                                     Si encuentra una provincia con un valor menor, es decir, menos ciudadanos por representante (lo que significa\n",
        "#                                     mayor sobrerepresentación), ese nuevo valor se actualiza en esta variable\n",
        "\n",
        "# Loop sobre el diccionario\n",
        "for provincia, valor in dict_provincias.items(): # El valor representa la cantidad de ciudadanos por representante en las provincias del dicc.\n",
        "    if valor > argentina:\n",
        "        print(provincia, \"está subrepresentada.\")\n",
        "    elif valor < argentina:\n",
        "        print(provincia, \"está sobrerepresentada.\")\n",
        "        # Buscamos la provincia con mayor sobrerepresentación\n",
        "        if valor < max_sobrerepresentacion:\n",
        "            max_sobrerepresentacion = valor\n",
        "            provincia_max = provincia\n",
        "    else:\n",
        "        print(provincia, \"tiene representación proporcional.\")\n",
        "\n",
        "# Imprimir la provincia con mayor sobrerepresentación\n",
        "print(\"La provincia con mayor sobrerepresentación es\", provincia_max)\n"
      ]
    },
    {
      "cell_type": "markdown",
      "metadata": {
        "id": "GokZe5tV-c9z"
      },
      "source": [
        "#### Ejercicio 10\n",
        "Si buscáramos minimizar la subrepresentación de la provincia de Buenos Aires, ¿cuántos representantes debería tener según el Censo 2022? Usemos el mismo criterio de sub/sobrerepresentacion que en el ejercicio anterior: población sobre cantidad de representantes.\n",
        "\n",
        "Para responder esta pregunta construyan un while loop que incremente de a uno la cantidad de representantes de la Provincia hasta minimizar la subrepresentación. En cada iteración impriman un cartel que diga: \"Se agregó un representante, el total ahora es X\" dónde X es el número de representantes simulado."
      ]
    },
    {
      "cell_type": "code",
      "execution_count": null,
      "metadata": {
        "id": "x9DvuXa_-c9z"
      },
      "outputs": [],
      "source": [
        "# Estos son los valores de la provincia\n",
        "representantes_pba = 70\n",
        "poblacion2010_pba = 17594428\n",
        "\n",
        "\n",
        "# Y el valor de referencia nacional\n",
        "argentina = 46044703 / 257\n"
      ]
    },
    {
      "cell_type": "code",
      "execution_count": null,
      "metadata": {
        "id": "0tv0cuWRA0ZZ",
        "colab": {
          "base_uri": "https://localhost:8080/"
        },
        "outputId": "eb50e090-34bb-4fab-ccf8-804d427e4938"
      },
      "outputs": [
        {
          "output_type": "stream",
          "name": "stdout",
          "text": [
            "Se agregó un representante, el total ahora es 71\n",
            "Se agregó un representante, el total ahora es 72\n",
            "Se agregó un representante, el total ahora es 73\n",
            "Se agregó un representante, el total ahora es 74\n",
            "Se agregó un representante, el total ahora es 75\n",
            "Se agregó un representante, el total ahora es 76\n",
            "Se agregó un representante, el total ahora es 77\n",
            "Se agregó un representante, el total ahora es 78\n",
            "Se agregó un representante, el total ahora es 79\n",
            "Se agregó un representante, el total ahora es 80\n",
            "Se agregó un representante, el total ahora es 81\n",
            "Se agregó un representante, el total ahora es 82\n",
            "Se agregó un representante, el total ahora es 83\n",
            "Se agregó un representante, el total ahora es 84\n",
            "Se agregó un representante, el total ahora es 85\n",
            "Se agregó un representante, el total ahora es 86\n",
            "Se agregó un representante, el total ahora es 87\n",
            "Se agregó un representante, el total ahora es 88\n",
            "Se agregó un representante, el total ahora es 89\n",
            "Se agregó un representante, el total ahora es 90\n",
            "Se agregó un representante, el total ahora es 91\n",
            "Se agregó un representante, el total ahora es 92\n",
            "Se agregó un representante, el total ahora es 93\n",
            "Se agregó un representante, el total ahora es 94\n",
            "Se agregó un representante, el total ahora es 95\n",
            "Se agregó un representante, el total ahora es 96\n",
            "Se agregó un representante, el total ahora es 97\n",
            "Se agregó un representante, el total ahora es 98\n",
            "Se agregó un representante, el total ahora es 99\n",
            "El número mínimo de representantes necesarios para Buenos Aires es 99\n"
          ]
        }
      ],
      "source": [
        "# Ejercicio 10\n",
        "\n",
        "# Ciudadanos por representante ahora:\n",
        "ciudadanos_por_representante_actual = poblacion2010_pba / representantes_pba\n",
        "\n",
        "# Mientras la cantidad de ciudadanos por representante en PBA sea mayor que la proporcionalidad nacional\n",
        "while ciudadanos_por_representante_actual > argentina:\n",
        "    representantes_pba += 1 # Incrementamos de a uno el número de representantes\n",
        "    ciudadanos_por_representante_actual = poblacion2010_pba / representantes_pba # Recalculamos ciudadanos por representante ahora\n",
        "    print(\"Se agregó un representante, el total ahora es\", representantes_pba)\n",
        "\n",
        "# Imprimimos el número final de representantes\n",
        "print(\"El número mínimo de representantes necesarios para Buenos Aires es\", representantes_pba)"
      ]
    }
  ],
  "metadata": {
    "anaconda-cloud": {},
    "colab": {
      "provenance": []
    },
    "kernelspec": {
      "display_name": "Python 3 (ipykernel)",
      "language": "python",
      "name": "python3"
    },
    "language_info": {
      "codemirror_mode": {
        "name": "ipython",
        "version": 3
      },
      "file_extension": ".py",
      "mimetype": "text/x-python",
      "name": "python",
      "nbconvert_exporter": "python",
      "pygments_lexer": "ipython3",
      "version": "3.11.9"
    }
  },
  "nbformat": 4,
  "nbformat_minor": 0
}