{
 "cells": [
  {
   "cell_type": "code",
   "execution_count": 17,
   "id": "eb4966b7-f90b-4093-bbc6-84e75f674329",
   "metadata": {
    "collapsed": true,
    "jupyter": {
     "outputs_hidden": true
    }
   },
   "outputs": [
    {
     "name": "stdout",
     "output_type": "stream",
     "text": [
      "                          CODUSU  ANO4  TRIMESTRE  NRO_HOGAR  COMPONENTE  H15  \\\n",
      "0  TQRMNOPUTHLMKQCDEGGFB00852588  2024          1          1           3    1   \n",
      "1  TQRMNOPUTHLMKQCDEGGFB00852588  2024          1          1           4    1   \n",
      "2  TQRMNOPUTHLMKQCDEGGFB00852588  2024          1          1           5    0   \n",
      "3  TQRMNOPPWHLLKRCDEGGFB00852574  2024          1          1           1    1   \n",
      "4  TQRMNOPPWHLLKRCDEGGFB00852574  2024          1          1           2    1   \n",
      "\n",
      "   REGION MAS_500  AGLOMERADO  PONDERA  ...  PDECIFR  ADECIFR      IPCF  \\\n",
      "0      42       S          10      439  ...      NaN       12       0.0   \n",
      "1      42       S          10      439  ...      NaN       12       0.0   \n",
      "2      42       S          10      439  ...      NaN       12       0.0   \n",
      "3      42       S          10      675  ...      NaN        8  212500.0   \n",
      "4      42       S          10      675  ...      NaN        8  212500.0   \n",
      "\n",
      "   DECCFR  IDECCFR  RDECCFR  GDECCFR  PDECCFR  ADECCFR  PONDIH  \n",
      "0      12     12.0       12     12.0      NaN       12       0  \n",
      "1      12     12.0       12     12.0      NaN       12       0  \n",
      "2      12     12.0       12     12.0      NaN       12       0  \n",
      "3       6      6.0        6      6.0      NaN        6    1610  \n",
      "4       6      6.0        6      6.0      NaN        6    1610  \n",
      "\n",
      "[5 rows x 177 columns]\n",
      "     CODUSU  nro_hogar componente h15    ano4       trimestre  \\\n",
      "0  125098          1.0        1.0  Sí  2004.0  1er. Trimestre   \n",
      "1  125397          1.0        1.0  Sí  2004.0  1er. Trimestre   \n",
      "2  125515          1.0        1.0  Sí  2004.0  1er. Trimestre   \n",
      "3  125558          1.0        1.0  Sí  2004.0  1er. Trimestre   \n",
      "4  125558          1.0        2.0  Sí  2004.0  1er. Trimestre   \n",
      "\n",
      "              region mas_500              aglomerado  pondera  ... deccfr  \\\n",
      "0  Gran Buenos Aires       S  Ciudad de Buenos Aires   1299.0  ...     07   \n",
      "1  Gran Buenos Aires       S  Ciudad de Buenos Aires   2018.0  ...     00   \n",
      "2  Gran Buenos Aires       S  Ciudad de Buenos Aires   1486.0  ...     07   \n",
      "3  Gran Buenos Aires       S  Ciudad de Buenos Aires   1674.0  ...     08   \n",
      "4  Gran Buenos Aires       S  Ciudad de Buenos Aires   1674.0  ...     08   \n",
      "\n",
      "  ideccfr rdeccfr gdeccfr pdeccfr adeccfr pj1_1 pj2_1 pj3_1 idimpp  \n",
      "0              06      06              04   0.0   0.0   0.0  00000  \n",
      "1              00      00              00   0.0   0.0   0.0  00000  \n",
      "2              07      07              05   0.0   0.0   0.0  00020  \n",
      "3              08      08              06   0.0   0.0   0.0  00000  \n",
      "4              08      08              06   0.0   0.0   0.0  00000  \n",
      "\n",
      "[5 rows x 176 columns]\n"
     ]
    }
   ],
   "source": [
    "#Parte 1\n",
    "#Ejercicio 2\n",
    "\n",
    "# Importamos las librerías necesarias\n",
    "import pandas as pd\n",
    "\n",
    "# Cargamos el archivo 2024 en un DataFrame \n",
    "file_name = \"usu_individual_T124 copy.xlsx\"\n",
    "data_24 = pd.read_excel(file_name)\n",
    "\n",
    "# Mostrar las primeras filas para confirmar la carga\n",
    "print(data_24.head())\n",
    "\n",
    "# Cargamos el archivo 2004 en un DataFrame\n",
    "file_name = \"Individual_t104 copy.dta\"\n",
    "data_04 = pd.read_stata(file_name)\n",
    "\n",
    "# Mostrar las primeras filas para confirmar la carga\n",
    "print(data_04.head())"
   ]
  },
  {
   "cell_type": "code",
   "execution_count": null,
   "id": "7eca6f0f-e505-4edc-a11e-628932d9e8e5",
   "metadata": {},
   "outputs": [],
   "source": []
  }
 ],
 "metadata": {
  "kernelspec": {
   "display_name": "Python 3 (ipykernel)",
   "language": "python",
   "name": "python3"
  },
  "language_info": {
   "codemirror_mode": {
    "name": "ipython",
    "version": 3
   },
   "file_extension": ".py",
   "mimetype": "text/x-python",
   "name": "python",
   "nbconvert_exporter": "python",
   "pygments_lexer": "ipython3",
   "version": "3.12.4"
  }
 },
 "nbformat": 4,
 "nbformat_minor": 5
}
