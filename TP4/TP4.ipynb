{
 "cells": [
  {
   "cell_type": "code",
   "execution_count": null,
   "id": "5d55f084-a4f6-497b-9b9d-991d2a828e79",
   "metadata": {},
   "outputs": [],
   "source": [
    "### TP4"
   ]
  },
  {
   "cell_type": "code",
   "execution_count": null,
   "id": "4d921c55-0237-45d5-a8af-fb9af399ccc4",
   "metadata": {},
   "outputs": [],
   "source": [
    "## PARTE I"
   ]
  },
  {
   "cell_type": "code",
   "execution_count": null,
   "id": "d74e90f2-d475-4cbc-87e0-c0337771ce59",
   "metadata": {},
   "outputs": [],
   "source": []
  },
  {
   "cell_type": "code",
   "execution_count": null,
   "id": "21975883-6a53-4a51-849c-62033b261c84",
   "metadata": {},
   "outputs": [],
   "source": [
    "# EJERCICIO 2. 2. Descarguen la base de microdatos de la EPH correspondiente al primer trimestre de 2004 y 2024 en formato \n",
    "# .dta y .xls, respectivamente. La base de hogares se llama Hogar_t104.dta y usu_hogar_T124.xls, respectivamente. \n",
    "# Eliminen todas las observaciones que no corresponden a los aglomerados de Ciudad Autónoma de Buenos Aires o Gran Buenos \n",
    "# Aires y unan ambos trimestres en una sola base. Esto es, a la base de la encuesta individual de cada año (que usaron en el \n",
    "# TP3) unan la base de la encuesta de hogar. Asegúrese de estar usando las variables CODUSU y NRO_Hogar para el merge."
   ]
  },
  {
   "cell_type": "code",
   "execution_count": 86,
   "id": "f494524f-d04d-484a-93fe-04e4d74ac1e1",
   "metadata": {},
   "outputs": [],
   "source": [
    "import pandas as pd\n",
    "\n",
    "# Cargamos bases\n",
    "base_hogar_2004 = pd.read_stata(\"Hogar_t104.dta\")\n",
    "base_hogar_2024 = pd.read_excel(\"usu_hogar_T124.xlsx\")"
   ]
  },
  {
   "cell_type": "code",
   "execution_count": 88,
   "id": "7de36632-36a4-43ee-8d1d-1187043440e4",
   "metadata": {},
   "outputs": [],
   "source": [
    "# Cargamos bases\n",
    "base_individual_2004 = pd.read_stata('Individual_t104.dta')\n",
    "base_individual_2024 = pd.read_excel('usu_individual_T124.xlsx')"
   ]
  },
  {
   "cell_type": "code",
   "execution_count": 90,
   "id": "33ce4fd8-076e-4a51-ba7a-a38e93528a12",
   "metadata": {},
   "outputs": [],
   "source": [
    "# Uniformizamos nombres de columnas\n",
    "base_hogar_2004.columns = base_hogar_2004.columns.str.lower()\n",
    "base_hogar_2024.columns = base_hogar_2024.columns.str.lower()\n",
    "\n",
    "base_individual_2004.columns = base_individual_2004.columns.str.lower()\n",
    "base_individual_2024.columns = base_individual_2024.columns.str.lower()"
   ]
  },
  {
   "cell_type": "code",
   "execution_count": 92,
   "id": "019adee7-5950-4751-b1f9-f4e13018af4e",
   "metadata": {},
   "outputs": [
    {
     "name": "stdout",
     "output_type": "stream",
     "text": [
      "   ch06   ch04\n",
      "0  79.0  Varón\n",
      "1  67.0  Mujer\n",
      "2  74.0  Mujer\n",
      "3  54.0  Varón\n",
      "4  51.0  Mujer\n",
      "Index(['codusu', 'nro_hogar', 'realizada', 'ano4', 'trimestre', 'region',\n",
      "       'mas_500', 'aglomerado', 'pondera', 'iv1', 'iv1_esp', 'iv2', 'iv3',\n",
      "       'iv3_esp', 'iv4', 'iv5', 'iv6', 'iv7', 'iv7_esp', 'iv8', 'iv9', 'iv10',\n",
      "       'iv11', 'iv12_1', 'iv12_2', 'iv12_3', 'ii1', 'ii2', 'ii3', 'ii3_1',\n",
      "       'ii4_1', 'ii4_2', 'ii4_3', 'ii5', 'ii5_1', 'ii6', 'ii6_1', 'ii7',\n",
      "       'ii7_esp', 'ii8', 'ii8_esp', 'ii9', 'v1', 'v2', 'v21', 'v22', 'v3',\n",
      "       'v4', 'v5', 'v6', 'v7', 'v8', 'v9', 'v10', 'v11', 'v12', 'v13', 'v14',\n",
      "       'v15', 'v16', 'v17', 'v18', 'v19_a', 'v19_b', 'ix_tot', 'ix_men10',\n",
      "       'ix_mayeq10', 'itf', 'decifr', 'idecifr', 'rdecifr', 'gdecifr',\n",
      "       'pdecifr', 'adecifr', 'ipcf', 'deccfr', 'ideccfr', 'rdeccfr', 'gdeccfr',\n",
      "       'pdeccfr', 'adeccfr', 'vii1_1', 'vii1_2', 'vii2_1', 'vii2_2', 'vii2_3',\n",
      "       'vii2_4', 'idimph'],\n",
      "      dtype='object')\n"
     ]
    },
    {
     "ename": "KeyError",
     "evalue": "\"None of [Index(['ch04'], dtype='object')] are in the [columns]\"",
     "output_type": "error",
     "traceback": [
      "\u001b[0;31m---------------------------------------------------------------------------\u001b[0m",
      "\u001b[0;31mKeyError\u001b[0m                                  Traceback (most recent call last)",
      "Cell \u001b[0;32mIn[92], line 3\u001b[0m\n\u001b[1;32m      1\u001b[0m \u001b[38;5;28mprint\u001b[39m(base_individual_2004[[\u001b[38;5;124m'\u001b[39m\u001b[38;5;124mch06\u001b[39m\u001b[38;5;124m'\u001b[39m, \u001b[38;5;124m'\u001b[39m\u001b[38;5;124mch04\u001b[39m\u001b[38;5;124m'\u001b[39m]]\u001b[38;5;241m.\u001b[39mhead())\n\u001b[1;32m      2\u001b[0m \u001b[38;5;28mprint\u001b[39m(base_hogar_2004\u001b[38;5;241m.\u001b[39mcolumns)\n\u001b[0;32m----> 3\u001b[0m \u001b[38;5;28mprint\u001b[39m(base_hogar_2004[[\u001b[38;5;124m'\u001b[39m\u001b[38;5;124mch04\u001b[39m\u001b[38;5;124m'\u001b[39m]]\u001b[38;5;241m.\u001b[39mhead())\n",
      "File \u001b[0;32m/opt/anaconda3/lib/python3.12/site-packages/pandas/core/frame.py:4108\u001b[0m, in \u001b[0;36mDataFrame.__getitem__\u001b[0;34m(self, key)\u001b[0m\n\u001b[1;32m   4106\u001b[0m     \u001b[38;5;28;01mif\u001b[39;00m is_iterator(key):\n\u001b[1;32m   4107\u001b[0m         key \u001b[38;5;241m=\u001b[39m \u001b[38;5;28mlist\u001b[39m(key)\n\u001b[0;32m-> 4108\u001b[0m     indexer \u001b[38;5;241m=\u001b[39m \u001b[38;5;28mself\u001b[39m\u001b[38;5;241m.\u001b[39mcolumns\u001b[38;5;241m.\u001b[39m_get_indexer_strict(key, \u001b[38;5;124m\"\u001b[39m\u001b[38;5;124mcolumns\u001b[39m\u001b[38;5;124m\"\u001b[39m)[\u001b[38;5;241m1\u001b[39m]\n\u001b[1;32m   4110\u001b[0m \u001b[38;5;66;03m# take() does not accept boolean indexers\u001b[39;00m\n\u001b[1;32m   4111\u001b[0m \u001b[38;5;28;01mif\u001b[39;00m \u001b[38;5;28mgetattr\u001b[39m(indexer, \u001b[38;5;124m\"\u001b[39m\u001b[38;5;124mdtype\u001b[39m\u001b[38;5;124m\"\u001b[39m, \u001b[38;5;28;01mNone\u001b[39;00m) \u001b[38;5;241m==\u001b[39m \u001b[38;5;28mbool\u001b[39m:\n",
      "File \u001b[0;32m/opt/anaconda3/lib/python3.12/site-packages/pandas/core/indexes/base.py:6200\u001b[0m, in \u001b[0;36mIndex._get_indexer_strict\u001b[0;34m(self, key, axis_name)\u001b[0m\n\u001b[1;32m   6197\u001b[0m \u001b[38;5;28;01melse\u001b[39;00m:\n\u001b[1;32m   6198\u001b[0m     keyarr, indexer, new_indexer \u001b[38;5;241m=\u001b[39m \u001b[38;5;28mself\u001b[39m\u001b[38;5;241m.\u001b[39m_reindex_non_unique(keyarr)\n\u001b[0;32m-> 6200\u001b[0m \u001b[38;5;28mself\u001b[39m\u001b[38;5;241m.\u001b[39m_raise_if_missing(keyarr, indexer, axis_name)\n\u001b[1;32m   6202\u001b[0m keyarr \u001b[38;5;241m=\u001b[39m \u001b[38;5;28mself\u001b[39m\u001b[38;5;241m.\u001b[39mtake(indexer)\n\u001b[1;32m   6203\u001b[0m \u001b[38;5;28;01mif\u001b[39;00m \u001b[38;5;28misinstance\u001b[39m(key, Index):\n\u001b[1;32m   6204\u001b[0m     \u001b[38;5;66;03m# GH 42790 - Preserve name from an Index\u001b[39;00m\n",
      "File \u001b[0;32m/opt/anaconda3/lib/python3.12/site-packages/pandas/core/indexes/base.py:6249\u001b[0m, in \u001b[0;36mIndex._raise_if_missing\u001b[0;34m(self, key, indexer, axis_name)\u001b[0m\n\u001b[1;32m   6247\u001b[0m \u001b[38;5;28;01mif\u001b[39;00m nmissing:\n\u001b[1;32m   6248\u001b[0m     \u001b[38;5;28;01mif\u001b[39;00m nmissing \u001b[38;5;241m==\u001b[39m \u001b[38;5;28mlen\u001b[39m(indexer):\n\u001b[0;32m-> 6249\u001b[0m         \u001b[38;5;28;01mraise\u001b[39;00m \u001b[38;5;167;01mKeyError\u001b[39;00m(\u001b[38;5;124mf\u001b[39m\u001b[38;5;124m\"\u001b[39m\u001b[38;5;124mNone of [\u001b[39m\u001b[38;5;132;01m{\u001b[39;00mkey\u001b[38;5;132;01m}\u001b[39;00m\u001b[38;5;124m] are in the [\u001b[39m\u001b[38;5;132;01m{\u001b[39;00maxis_name\u001b[38;5;132;01m}\u001b[39;00m\u001b[38;5;124m]\u001b[39m\u001b[38;5;124m\"\u001b[39m)\n\u001b[1;32m   6251\u001b[0m     not_found \u001b[38;5;241m=\u001b[39m \u001b[38;5;28mlist\u001b[39m(ensure_index(key)[missing_mask\u001b[38;5;241m.\u001b[39mnonzero()[\u001b[38;5;241m0\u001b[39m]]\u001b[38;5;241m.\u001b[39munique())\n\u001b[1;32m   6252\u001b[0m     \u001b[38;5;28;01mraise\u001b[39;00m \u001b[38;5;167;01mKeyError\u001b[39;00m(\u001b[38;5;124mf\u001b[39m\u001b[38;5;124m\"\u001b[39m\u001b[38;5;132;01m{\u001b[39;00mnot_found\u001b[38;5;132;01m}\u001b[39;00m\u001b[38;5;124m not in index\u001b[39m\u001b[38;5;124m\"\u001b[39m)\n",
      "\u001b[0;31mKeyError\u001b[0m: \"None of [Index(['ch04'], dtype='object')] are in the [columns]\""
     ]
    }
   ],
   "source": [
    "print(base_individual_2004[['ch06', 'ch04']].head())\n",
    "print(base_hogar_2004.columns)\n",
    "print(base_hogar_2004[['ch04']].head()) # Muestra las primeras filas. Vemos que ch04 = sexo está como str. lo cambiamos por\n",
    "# 1 = Varón, 2 = Mujer para que concuerde con la base 2024. \n",
    "\n",
    "#Cambiamos 'Varón' a 1 y 'Mujer' a 2 en la columna de sexo (ch04)\n",
    "#base_individual_2004['ch04'] = base_2004['ch04'].replace({'Varón': 1, 'Mujer': 2})\n",
    "#base_hogar_2004['ch04'] = base_2004['ch04'].replace({'Varón': 1, 'Mujer': 2})"
   ]
  },
  {
   "cell_type": "code",
   "execution_count": 35,
   "id": "a1c53047-958e-4ab8-a3bc-bdd066d9033a",
   "metadata": {},
   "outputs": [],
   "source": [
    "# Filtramos por aglomerados CABA y GBA\n",
    "aglomerados_valid = [32, 33]\n",
    "base_hogar_2004 = base_hogar_2004[base_hogar_2004['aglomerado'].isin(aglomerados_valid)]\n",
    "base_hogar_2024 = base_hogar_2024[base_hogar_2024['aglomerado'].isin(aglomerados_valid)]"
   ]
  },
  {
   "cell_type": "code",
   "execution_count": 55,
   "id": "6bae6eab-72c9-410c-bd67-8d6b2aa8c206",
   "metadata": {},
   "outputs": [
    {
     "name": "stderr",
     "output_type": "stream",
     "text": [
      "/var/folders/80/gzgqn7bd7pqcf1x058lykxh80000gn/T/ipykernel_7887/626003122.py:6: FutureWarning: The behavior of DataFrame concatenation with empty or all-NA entries is deprecated. In a future version, this will no longer exclude empty or all-NA columns when determining the result dtypes. To retain the old behavior, exclude the relevant entries before the concat operation.\n",
      "  base_unificada = pd.concat([base_respondieron_2004, base_respondieron_2024])\n",
      "/var/folders/80/gzgqn7bd7pqcf1x058lykxh80000gn/T/ipykernel_7887/626003122.py:6: FutureWarning: The behavior of DataFrame concatenation with empty or all-NA entries is deprecated. In a future version, this will no longer exclude empty or all-NA columns when determining the result dtypes. To retain the old behavior, exclude the relevant entries before the concat operation.\n",
      "  base_unificada = pd.concat([base_respondieron_2004, base_respondieron_2024])\n"
     ]
    }
   ],
   "source": [
    "# Unificación de las bases de hogares e individuales\n",
    "base_respondieron_2004 = pd.merge(base_individual_2004, base_hogar_2004, on=['codusu', 'nro_hogar'])\n",
    "base_respondieron_2024 = pd.merge(base_individual_2024, base_hogar_2024, on=['codusu', 'nro_hogar'])\n",
    "\n",
    "# Unión de los dos períodos\n",
    "base_unificada = pd.concat([base_respondieron_2004, base_respondieron_2024])"
   ]
  },
  {
   "cell_type": "code",
   "execution_count": 57,
   "id": "aa523ca3-d33b-4c0d-8d46-e5c196544414",
   "metadata": {},
   "outputs": [],
   "source": [
    "base_unificada.to_csv(\"base_unificada.csv\", index=False)"
   ]
  }
 ],
 "metadata": {
  "kernelspec": {
   "display_name": "Python 3 (ipykernel)",
   "language": "python",
   "name": "python3"
  },
  "language_info": {
   "codemirror_mode": {
    "name": "ipython",
    "version": 3
   },
   "file_extension": ".py",
   "mimetype": "text/x-python",
   "name": "python",
   "nbconvert_exporter": "python",
   "pygments_lexer": "ipython3",
   "version": "3.12.4"
  }
 },
 "nbformat": 4,
 "nbformat_minor": 5
}
